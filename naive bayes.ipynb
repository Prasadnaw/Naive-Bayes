from sklearn import datasets
wine=datasets.load_wine()
print("Features:", wine.feature_names)
print("Labels:", wine.target_names)
Features: ['alcohol', 'malic_acid', 'ash', 'alcalinity_of_ash', 'magnesium', 'total_phenols', 'flavanoids', 'nonflavanoid_phenols', 'proanthocyanins', 'color_intensity', 'hue', 'od280/od315_of_diluted_wines', 'proline']
Labels: ['class_0' 'class_1' 'class_2']
from sklearn.model_selection import train_test_split
X=wine.data
y=wine.target
x_train,x_test,y_train,y_test=train_test_split(X,y,test_size=0.3,random_state=109)
from sklearn.naive_bayes import GaussianNB
from sklearn.metrics import accuracy_score
from sklearn import metrics
model=GaussianNB()
model.fit(x_train,y_train)
y_pred=model.predict(x_test)
print("accuracy :- ",metrics.accuracy_score(y_test,y_pred))
